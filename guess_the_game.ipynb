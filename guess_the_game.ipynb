{
  "nbformat": 4,
  "nbformat_minor": 0,
  "metadata": {
    "colab": {
      "name": "guess the game",
      "provenance": [],
      "authorship_tag": "ABX9TyNE0Glu/EoposbQLsKOX6fg",
      "include_colab_link": true
    },
    "kernelspec": {
      "name": "python3",
      "display_name": "Python 3"
    },
    "language_info": {
      "name": "python"
    }
  },
  "cells": [
    {
      "cell_type": "markdown",
      "metadata": {
        "id": "view-in-github",
        "colab_type": "text"
      },
      "source": [
        "<a href=\"https://colab.research.google.com/github/Sarthak-01/Minor-project/blob/main/guess_the_game.ipynb\" target=\"_parent\"><img src=\"https://colab.research.google.com/assets/colab-badge.svg\" alt=\"Open In Colab\"/></a>"
      ]
    },
    {
      "cell_type": "code",
      "metadata": {
        "colab": {
          "base_uri": "https://localhost:8080/"
        },
        "id": "6BlqrgKvBc9l",
        "outputId": "db23d659-c965-4b74-e0a1-73d820191f94"
      },
      "source": [
        "import random\n",
        "name = input(\"what is your name ?\")\n",
        "print(\"good luck\",name)\n",
        "\n",
        "\n",
        "words = ['rainbow','computer','science','programming','python','mathematics','players','conditions','reverse','water','board','geeks']\n",
        "word =random.choice(words)\n",
        "\n",
        "print(\"guess the character\")\n",
        "guesses = \" \"\n",
        "\n",
        "turns = 5\n",
        "\n",
        "while turns >0 :\n",
        "  failed = 0\n",
        "\n",
        "  for char in word :\n",
        "    if char in guesses :\n",
        "      print(char)\n",
        "    else :\n",
        "      print(\"_\")\n",
        "      failed +=1\n",
        "\n",
        "  if failed == 0 :\n",
        "    print(\"you win\")\n",
        "\n",
        "    print(\"the word is : \",word)\n",
        "    break\n",
        "\n",
        "  guess = input(\"guess a character\")\n",
        "  guesses += guess\n",
        "\n",
        "  if guess not in word :\n",
        "    turns -= 1\n",
        "\n",
        "    print(\"wrong\")\n",
        "\n",
        "    print(\"you have\",+ turns,\"more guesses\")\n",
        "\n",
        "    if turns == 0 :\n",
        "      print(\"you loose\")"
      ],
      "execution_count": null,
      "outputs": [
        {
          "output_type": "stream",
          "text": [
            "what is your name ?skr\n",
            "good luck skr\n",
            "guess the character\n",
            "_\n",
            "_\n",
            "_\n",
            "_\n",
            "_\n",
            "_\n",
            "_\n",
            "_\n",
            "_\n",
            "_\n",
            "_\n",
            "guess a characterp\n",
            "wrong\n",
            "you have 4 more guesses\n",
            "_\n",
            "_\n",
            "_\n",
            "_\n",
            "_\n",
            "_\n",
            "_\n",
            "_\n",
            "_\n",
            "_\n",
            "_\n",
            "guess a characterc\n",
            "_\n",
            "_\n",
            "_\n",
            "_\n",
            "_\n",
            "_\n",
            "_\n",
            "_\n",
            "_\n",
            "c\n",
            "_\n",
            "guess a characterm\n",
            "m\n",
            "_\n",
            "_\n",
            "_\n",
            "_\n",
            "m\n",
            "_\n",
            "_\n",
            "_\n",
            "c\n",
            "_\n",
            "guess a charactera\n",
            "m\n",
            "a\n",
            "_\n",
            "_\n",
            "_\n",
            "m\n",
            "a\n",
            "_\n",
            "_\n",
            "c\n",
            "_\n"
          ],
          "name": "stdout"
        }
      ]
    }
  ]
}